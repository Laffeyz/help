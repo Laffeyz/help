{
 "cells": [
  {
   "cell_type": "code",
   "execution_count": null,
   "id": "564f206c",
   "metadata": {},
   "outputs": [],
   "source": [
    "from goods import Goods"
   ]
  },
  {
   "cell_type": "code",
   "execution_count": null,
   "id": "15ab46c0",
   "metadata": {},
   "outputs": [],
   "source": [
    "class goods:\n",
    "    def __init__(self, goods):\n",
    "        self.goods = goods\n",
    "    def which(self):\n",
    "        name = input(\"please enter goods:\")\n",
    "        master = input(\"please enter your name:\")\n",
    "        p = goods(name, master)\n",
    "        self.add(p)\n",
    "        if not self.goods:\n",
    "            print(\"There is nothing!\")\n",
    "        else:\n",
    "            print(\"-\" * 20 + \"The Stock List\" + \"-\" * 20)\n",
    "            for good in self.goods:\n",
    "                print(f\"goods: {good.name}     Supplier: {good.master}\")\n",
    "    def add(self, goods):\n",
    "        self.goods.append(goods)\n",
    "\n",
    "    def search(self):\n",
    "        name = input(\"name\")\n",
    "        matches = [good for good in self.goods if good.name == name]\n",
    "        if matches:\n",
    "            print(\"The goods you want to search is here:\")\n",
    "            print(\"-\" * 50)\n",
    "            for good in matches:\n",
    "                print(f\"goods: {good.name}     Supplier: {good.master}\")\n",
    "        else:\n",
    "            print(\"There is no such goods.\")\n",
    "\n",
    "    def list(self):\n",
    "        name = input(\"please enter goods:\")\n",
    "        master = input(\"please enter your name:\")\n",
    "        p = goods(name, master)\n",
    "        self.add(p)\n",
    "        if not self.goods:\n",
    "            print(\"There is nothing!\")\n",
    "        else:\n",
    "            print(\"-\" * 20 + \"The Stock List\" + \"-\" * 20)\n",
    "            for good in self.goods:\n",
    "                print(f\"goods: {good.name}     Supplier: {good.master}\")\n",
    "\n",
    "\n",
    "\n",
    "    def user_deleteandadd(self):\n",
    "        name = input(\"please enter your goods:\")\n",
    "        master = input(\"please enter your name:\")\n",
    "        self.goods = [good for good in self.goods if not (good.name == name and good.master == master)]\n",
    "        "
   ]
  }
 ],
 "metadata": {
  "kernelspec": {
   "display_name": "Python 3 (ipykernel)",
   "language": "python",
   "name": "python3"
  },
  "language_info": {
   "codemirror_mode": {
    "name": "ipython",
    "version": 3
   },
   "file_extension": ".py",
   "mimetype": "text/x-python",
   "name": "python",
   "nbconvert_exporter": "python",
   "pygments_lexer": "ipython3",
   "version": "3.9.12"
  }
 },
 "nbformat": 4,
 "nbformat_minor": 5
}
