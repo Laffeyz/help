{
 "cells": [
  {
   "cell_type": "code",
   "execution_count": null,
   "id": "19660573",
   "metadata": {},
   "outputs": [],
   "source": [
    "class Goods:\n",
    "    def __init__(self, id, name, intro, address, number, email, type, charact, user):\n",
    "        self.id = id\n",
    "        self.name = name\n",
    "        self.intro = intro\n",
    "        self.address = address\n",
    "        self.number = number\n",
    "        self.email = email\n",
    "        self.type = type\n",
    "        self.charact = charact\n",
    "        self.user = user\n"
   ]
  }
 ],
 "metadata": {
  "kernelspec": {
   "display_name": "Python 3 (ipykernel)",
   "language": "python",
   "name": "python3"
  },
  "language_info": {
   "codemirror_mode": {
    "name": "ipython",
    "version": 3
   },
   "file_extension": ".py",
   "mimetype": "text/x-python",
   "name": "python",
   "nbconvert_exporter": "python",
   "pygments_lexer": "ipython3",
   "version": "3.9.12"
  }
 },
 "nbformat": 4,
 "nbformat_minor": 5
}
